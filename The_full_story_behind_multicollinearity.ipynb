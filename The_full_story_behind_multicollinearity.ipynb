{
 "cells": [
  {
   "cell_type": "markdown",
   "id": "f5bf2a9c",
   "metadata": {
    "id": "view-in-github",
    "papermill": {
     "duration": 0.007433,
     "end_time": "2024-05-01T13:37:13.176227",
     "exception": false,
     "start_time": "2024-05-01T13:37:13.168794",
     "status": "completed"
    },
    "tags": []
   },
   "source": [
    "<a href=\"https://colab.research.google.com/github/divakaivan/full-story-behind-multicollinearity/blob/main/The_full_story_behind_multicollinearity.ipynb\" target=\"_parent\"><img src=\"https://colab.research.google.com/assets/colab-badge.svg\" alt=\"Open In Colab\"/></a>"
   ]
  },
  {
   "cell_type": "markdown",
   "id": "c09f3d73",
   "metadata": {
    "id": "E8iYU6SixeuV",
    "papermill": {
     "duration": 0.006217,
     "end_time": "2024-05-01T13:37:13.189321",
     "exception": false,
     "start_time": "2024-05-01T13:37:13.183104",
     "status": "completed"
    },
    "tags": []
   },
   "source": [
    "# Linear regression model\n",
    "\n",
    "$\\hat{y} = Xw + b$\n",
    "\n",
    "The **goal** is to find the weights $w$ and bias $b$ such that, given features of a new data sample from the same distribution as $X$, the new sample's label will be predicted correctly with the smallest error.\n",
    "\n",
    "# Loss\n",
    "\n",
    "Our goal is: $w^*, b^* = {argmin}_{w, b} L(w, b)$. For simplicity, $w$ subsumes $b$.\n",
    "\n",
    "After we differentialte $||y - Xw||^2$ w.r.t. $w$, we end up with\n",
    "\n",
    "# Optimal parameters\n",
    "\n",
    "$w^* = (X^TX)^{-1} X^Ty$\n",
    "\n",
    "Solving for $w^*$ provides us with the optimal solution for the optimization problem. However, it only works when the matrix $X^TX$ is invertible (has full rank - the columns are linearly independent).\n",
    "\n",
    "**IF** it does not have full rank -> some of the features are linearly dependent. In a perfect world $X^TX$ would be a diagonal (or nearly diagonal) square matrix (i.e. no linearly dependent variables).\n",
    "\n",
    "# Why do we need it to have full rank?\n",
    "\n",
    "In $w^*$ we have $(X^TX)^{-1}$ - inversing the matrix. To inverse a matrix, the matrix needs to satisfy:\n",
    "\n",
    "1. Be a square matrix - $(X^TX)^{-1}$ returns a square matrix so we are *good*\n",
    "2. Have non-zero determinant. In the case of square matrices having a non-zero determinant is equivalent to being full rank\n",
    "  * if features are linearly independent -> we are *good*\n",
    "  * if features are linearly dependent -> we are *not* good\n",
    "\n",
    "# What do we do when there is linear dependence or multicullinearity ?\n",
    "\n",
    "We cannot directly solve for $w^*$. We need to employ alternative methods to estimate it. We need to get an invertible $X^TX$, so we can:\n",
    "* use QR decomposition - useful even when $X^TX$ is not invertible\n",
    "* SVD = obtain a pseudo-inverse $X^TX$\n",
    "* regularization - helps mitigate multicollinearity\n",
    "* other methods\n",
    "\n",
    "Even though there is multicollinearity, we can still run a regression and obtain w estimates. Any if you ask an LLM, read a textbook, most likely it will leave at: thes estimates are bad and unreliable.\n",
    "\n",
    "# Why ?\n",
    "\n",
    "Multicollinearity means 'near-singularity' of the design matrix (matrix showing relationships between Xs and y).\n",
    "\n",
    "# Why do we care for near-singularity (which is equivalent to near 0 determinant) ?\n",
    "\n",
    "It means that we might have a near 0 eigenvalue. For a square matrix to have a determinant of (near) 0, at least one of its rows or columns must be a linear combination of the other rows or columns. This loss of dimensionality leads to a collapsing or compression of space, which is reflected in the eigenvalue being (near) 0.\n",
    "\n",
    "# Why do we care if there is a (near) 0 eigenvalue ?\n",
    "\n",
    "It suggests there is some strong linear relationship or multicollinearity among the features because of the way they relate to the `rank` and `condition number` of the matrix $X^TX$."
   ]
  },
  {
   "cell_type": "markdown",
   "id": "6c7c4e98",
   "metadata": {
    "id": "FJ_vh80b9cL4",
    "papermill": {
     "duration": 0.006095,
     "end_time": "2024-05-01T13:37:13.201923",
     "exception": false,
     "start_time": "2024-05-01T13:37:13.195828",
     "status": "completed"
    },
    "tags": []
   },
   "source": [
    "# Example of a matrix's eigenvalues when **there is** multicollinearity"
   ]
  },
  {
   "cell_type": "code",
   "execution_count": 1,
   "id": "44448b62",
   "metadata": {
    "execution": {
     "iopub.execute_input": "2024-05-01T13:37:13.216848Z",
     "iopub.status.busy": "2024-05-01T13:37:13.216418Z",
     "iopub.status.idle": "2024-05-01T13:37:13.231155Z",
     "shell.execute_reply": "2024-05-01T13:37:13.229774Z"
    },
    "id": "M17huicts7sZ",
    "papermill": {
     "duration": 0.025583,
     "end_time": "2024-05-01T13:37:13.234042",
     "exception": false,
     "start_time": "2024-05-01T13:37:13.208459",
     "status": "completed"
    },
    "tags": []
   },
   "outputs": [],
   "source": [
    "import numpy as np\n",
    "np.set_printoptions(suppress=True)\n",
    "np.random.seed(42)"
   ]
  },
  {
   "cell_type": "code",
   "execution_count": 2,
   "id": "8eba2fbb",
   "metadata": {
    "execution": {
     "iopub.execute_input": "2024-05-01T13:37:13.249921Z",
     "iopub.status.busy": "2024-05-01T13:37:13.249178Z",
     "iopub.status.idle": "2024-05-01T13:37:13.272755Z",
     "shell.execute_reply": "2024-05-01T13:37:13.271629Z"
    },
    "id": "DfLwwFOK990C",
    "outputId": "4e3c9b72-c69d-48f1-c658-ec74fa057951",
    "papermill": {
     "duration": 0.034962,
     "end_time": "2024-05-01T13:37:13.275692",
     "exception": false,
     "start_time": "2024-05-01T13:37:13.240730",
     "status": "completed"
    },
    "tags": []
   },
   "outputs": [
    {
     "name": "stdout",
     "output_type": "stream",
     "text": [
      "Multicollinearity case:\n",
      "X^TX:\n",
      "[[ 55 110]\n",
      " [110 220]]\n",
      "Eigenvalues of X^TX:\n",
      "[  0. 275.]\n"
     ]
    }
   ],
   "source": [
    "x1 = np.array([1, 2, 3, 4, 5])\n",
    "x2 = np.array([2, 4, 6, 8, 10])\n",
    "\n",
    "X = np.column_stack((x1, x2))\n",
    "\n",
    "XTX = np.dot(X.T, X)\n",
    "\n",
    "eigenvalues_XTX = np.linalg.eigvals(XTX)\n",
    "\n",
    "print('Multicollinearity case:')\n",
    "print(\"X^TX:\")\n",
    "print(XTX)\n",
    "print(\"Eigenvalues of X^TX:\")\n",
    "print(eigenvalues_XTX)"
   ]
  },
  {
   "cell_type": "markdown",
   "id": "4ff02eb1",
   "metadata": {
    "id": "47TPY7LA_WjG",
    "papermill": {
     "duration": 0.006371,
     "end_time": "2024-05-01T13:37:13.288819",
     "exception": false,
     "start_time": "2024-05-01T13:37:13.282448",
     "status": "completed"
    },
    "tags": []
   },
   "source": [
    "# Example of a matrix's eigenvalues when there is **no** multicollinearity"
   ]
  },
  {
   "cell_type": "code",
   "execution_count": 3,
   "id": "711ae32e",
   "metadata": {
    "execution": {
     "iopub.execute_input": "2024-05-01T13:37:13.304393Z",
     "iopub.status.busy": "2024-05-01T13:37:13.303393Z",
     "iopub.status.idle": "2024-05-01T13:37:13.312355Z",
     "shell.execute_reply": "2024-05-01T13:37:13.311113Z"
    },
    "id": "AqTuEWkc9-JQ",
    "outputId": "ff07ebf7-c95d-413b-9331-af470ef9aff2",
    "papermill": {
     "duration": 0.019552,
     "end_time": "2024-05-01T13:37:13.315089",
     "exception": false,
     "start_time": "2024-05-01T13:37:13.295537",
     "status": "completed"
    },
    "tags": []
   },
   "outputs": [
    {
     "name": "stdout",
     "output_type": "stream",
     "text": [
      "No multicollinearity case:\n",
      "X^TX:\n",
      "[[ 55  84]\n",
      " [ 84 135]]\n",
      "Eigenvalues of X^TX:\n",
      "[  1.9623732 188.0376268]\n"
     ]
    }
   ],
   "source": [
    "x1 = np.array([1, 2, 3, 4, 5])\n",
    "x2 = np.array([3, 5, 4, 6, 7])\n",
    "\n",
    "X = np.column_stack((x1, x2))\n",
    "\n",
    "XTX = np.dot(X.T, X)\n",
    "\n",
    "eigenvalues_XTX = np.linalg.eigvals(XTX)\n",
    "\n",
    "print('No multicollinearity case:')\n",
    "print(\"X^TX:\")\n",
    "print(XTX)\n",
    "print(\"Eigenvalues of X^TX:\")\n",
    "print(eigenvalues_XTX)"
   ]
  },
  {
   "cell_type": "markdown",
   "id": "602091ab",
   "metadata": {
    "id": "4MGnFZqT_lkf",
    "papermill": {
     "duration": 0.006707,
     "end_time": "2024-05-01T13:37:13.328713",
     "exception": false,
     "start_time": "2024-05-01T13:37:13.322006",
     "status": "completed"
    },
    "tags": []
   },
   "source": [
    "# How do eigenvalues relate to rank ?\n",
    "\n",
    "On the one hand, if a matrix has full rank (from the start: this is one of the conditions in order to inverse a matrix) that means all its eigenvalues are non-zero. Each eigenvalue of a matrix corresponds to a factor by which a non-zero eigenvector is stretched or shrunk when the matrix is applied to it. If all rows and columns are linearly independent, then the matrix will not collapse any direction onto another during a transformation. Since there are no linearly dependent directions to collapse onto zero, all the eigenvalues must be non-zero.\n",
    "\n",
    "On the other hand, a matrix with less than full rank means there is some linear dependence - there exists one direction in the input space that is mapped to 0 in the output space -> at least one 0 eigenvalue."
   ]
  },
  {
   "cell_type": "markdown",
   "id": "09450d5b",
   "metadata": {
    "id": "DD0rxp0HCmME",
    "papermill": {
     "duration": 0.006823,
     "end_time": "2024-05-01T13:37:13.342444",
     "exception": false,
     "start_time": "2024-05-01T13:37:13.335621",
     "status": "completed"
    },
    "tags": []
   },
   "source": [
    "# Example of a matrix's rank when **there is** multicollinearity"
   ]
  },
  {
   "cell_type": "code",
   "execution_count": 4,
   "id": "f6b79a83",
   "metadata": {
    "execution": {
     "iopub.execute_input": "2024-05-01T13:37:13.358985Z",
     "iopub.status.busy": "2024-05-01T13:37:13.358600Z",
     "iopub.status.idle": "2024-05-01T13:37:13.371863Z",
     "shell.execute_reply": "2024-05-01T13:37:13.370820Z"
    },
    "id": "6PRP2RJF_lIu",
    "outputId": "7be4394b-e4a2-4f26-a2a4-684e8ca741ca",
    "papermill": {
     "duration": 0.024601,
     "end_time": "2024-05-01T13:37:13.374628",
     "exception": false,
     "start_time": "2024-05-01T13:37:13.350027",
     "status": "completed"
    },
    "tags": []
   },
   "outputs": [
    {
     "name": "stdout",
     "output_type": "stream",
     "text": [
      "Multicollinearity case:\n",
      "eigenvalues=array([  0., 275.])\n",
      "rank of the matrix: 1\n"
     ]
    }
   ],
   "source": [
    "# same matrix as before\n",
    "x1 = np.array([1, 2, 3, 4, 5])\n",
    "x2 = np.array([2, 4, 6, 8, 10])\n",
    "\n",
    "X = np.column_stack((x1, x2))\n",
    "\n",
    "XTX = np.dot(X.T, X)\n",
    "\n",
    "eigenvalues = np.linalg.eigvals(XTX)\n",
    "\n",
    "print('Multicollinearity case:')\n",
    "print(f'{eigenvalues=}')\n",
    "\n",
    "rank = np.linalg.matrix_rank(XTX)\n",
    "print(\"rank of the matrix:\", rank) # supposed to be 3"
   ]
  },
  {
   "cell_type": "markdown",
   "id": "8eb4761d",
   "metadata": {
    "id": "wxx_3yg1DRE7",
    "papermill": {
     "duration": 0.007087,
     "end_time": "2024-05-01T13:37:13.388818",
     "exception": false,
     "start_time": "2024-05-01T13:37:13.381731",
     "status": "completed"
    },
    "tags": []
   },
   "source": [
    "# Example of a matrix's eigenvalues when there is **no** multicollinearity"
   ]
  },
  {
   "cell_type": "code",
   "execution_count": 5,
   "id": "d54fa1da",
   "metadata": {
    "execution": {
     "iopub.execute_input": "2024-05-01T13:37:13.406000Z",
     "iopub.status.busy": "2024-05-01T13:37:13.405129Z",
     "iopub.status.idle": "2024-05-01T13:37:13.414844Z",
     "shell.execute_reply": "2024-05-01T13:37:13.413294Z"
    },
    "id": "pI-8nBvl9-Lc",
    "outputId": "bd1eaed3-7396-48ae-e2b9-e5bb6db2de59",
    "papermill": {
     "duration": 0.020949,
     "end_time": "2024-05-01T13:37:13.417380",
     "exception": false,
     "start_time": "2024-05-01T13:37:13.396431",
     "status": "completed"
    },
    "tags": []
   },
   "outputs": [
    {
     "name": "stdout",
     "output_type": "stream",
     "text": [
      "No multicollinearity case:\n",
      "X^TX:\n",
      "[[ 55  84]\n",
      " [ 84 135]]\n",
      "Eigenvalues of X^TX:\n",
      "[  1.9623732 188.0376268]\n",
      "rank of the matrix: 2\n"
     ]
    }
   ],
   "source": [
    "# same matrix as before\n",
    "x1 = np.array([1, 2, 3, 4, 5])\n",
    "x2 = np.array([3, 5, 4, 6, 7])\n",
    "\n",
    "X = np.column_stack((x1, x2))\n",
    "\n",
    "XTX = np.dot(X.T, X)\n",
    "\n",
    "eigenvalues_XTX = np.linalg.eigvals(XTX)\n",
    "\n",
    "print('No multicollinearity case:')\n",
    "print(\"X^TX:\")\n",
    "print(XTX)\n",
    "print(\"Eigenvalues of X^TX:\")\n",
    "print(eigenvalues_XTX)\n",
    "\n",
    "rank = np.linalg.matrix_rank(XTX)\n",
    "print(\"rank of the matrix:\", rank) # supposed to be 2"
   ]
  },
  {
   "cell_type": "markdown",
   "id": "c3d221d7",
   "metadata": {
    "id": "yItCKFPSD5nW",
    "papermill": {
     "duration": 0.007046,
     "end_time": "2024-05-01T13:37:13.432067",
     "exception": false,
     "start_time": "2024-05-01T13:37:13.425021",
     "status": "completed"
    },
    "tags": []
   },
   "source": [
    "# How do eigenvalues relate to the matrix's condition number ?\n",
    "\n",
    "The condition number of a matrix is a measure of its sensitivity to pertributions or changes in the elements of the matrix; or how small changes in the elements of the matrix might affect its behaviour or properties, such as its eigenvalues or the solutions to linear systems involving that matrix.\n",
    "\n",
    "The spread of the eigenvalues can give insight into the matrix's conditioning - smaller spread generally suggests better conditioning.\n",
    "\n",
    "In most cases, a larger condition number indicates poorer conditioning, while a smaller - better conditioning."
   ]
  },
  {
   "cell_type": "markdown",
   "id": "9a346faf",
   "metadata": {
    "id": "qYbc-HIiFS0l",
    "papermill": {
     "duration": 0.007017,
     "end_time": "2024-05-01T13:37:13.448067",
     "exception": false,
     "start_time": "2024-05-01T13:37:13.441050",
     "status": "completed"
    },
    "tags": []
   },
   "source": [
    "# Example of a matrix's rank when **there is** multicollinearity"
   ]
  },
  {
   "cell_type": "code",
   "execution_count": 6,
   "id": "9e7e3505",
   "metadata": {
    "execution": {
     "iopub.execute_input": "2024-05-01T13:37:13.464757Z",
     "iopub.status.busy": "2024-05-01T13:37:13.463835Z",
     "iopub.status.idle": "2024-05-01T13:37:13.475096Z",
     "shell.execute_reply": "2024-05-01T13:37:13.473907Z"
    },
    "id": "p7ROBD4r9-Nf",
    "outputId": "be09c26d-99e0-4a9f-d04f-52413f7e8c78",
    "papermill": {
     "duration": 0.022229,
     "end_time": "2024-05-01T13:37:13.477521",
     "exception": false,
     "start_time": "2024-05-01T13:37:13.455292",
     "status": "completed"
    },
    "tags": []
   },
   "outputs": [
    {
     "name": "stdout",
     "output_type": "stream",
     "text": [
      "Multicollinearity case:\n",
      "eigenvalues=array([  0., 275.])\n",
      "rank of the matrix: 1\n",
      "condition_number=inf\n"
     ]
    }
   ],
   "source": [
    "# same matrix as before\n",
    "x1 = np.array([1, 2, 3, 4, 5])\n",
    "x2 = np.array([2, 4, 6, 8, 10])\n",
    "\n",
    "X = np.column_stack((x1, x2))\n",
    "\n",
    "XTX = np.dot(X.T, X)\n",
    "\n",
    "eigenvalues = np.linalg.eigvals(XTX)\n",
    "\n",
    "print('Multicollinearity case:')\n",
    "print(f'{eigenvalues=}')\n",
    "\n",
    "rank = np.linalg.matrix_rank(XTX)\n",
    "print(\"rank of the matrix:\", rank) # supposed to be 2\n",
    "\n",
    "condition_number = np.linalg.cond(XTX)\n",
    "print(f'{condition_number=}')"
   ]
  },
  {
   "cell_type": "markdown",
   "id": "da1a52aa",
   "metadata": {
    "id": "Dn88MlaVFejo",
    "papermill": {
     "duration": 0.007106,
     "end_time": "2024-05-01T13:37:13.492098",
     "exception": false,
     "start_time": "2024-05-01T13:37:13.484992",
     "status": "completed"
    },
    "tags": []
   },
   "source": [
    "# Example of a matrix's eigenvalues when there is **no** multicollinearity"
   ]
  },
  {
   "cell_type": "code",
   "execution_count": 7,
   "id": "222873a9",
   "metadata": {
    "execution": {
     "iopub.execute_input": "2024-05-01T13:37:13.508834Z",
     "iopub.status.busy": "2024-05-01T13:37:13.508432Z",
     "iopub.status.idle": "2024-05-01T13:37:13.519774Z",
     "shell.execute_reply": "2024-05-01T13:37:13.518345Z"
    },
    "id": "iGY0KIue9-Px",
    "outputId": "7e65867a-ef9d-474f-8a04-3da14769f445",
    "papermill": {
     "duration": 0.022368,
     "end_time": "2024-05-01T13:37:13.522022",
     "exception": false,
     "start_time": "2024-05-01T13:37:13.499654",
     "status": "completed"
    },
    "tags": []
   },
   "outputs": [
    {
     "name": "stdout",
     "output_type": "stream",
     "text": [
      "No multicollinearity case:\n",
      "X^TX:\n",
      "[[ 55  84]\n",
      " [ 84 135]]\n",
      "Eigenvalues of X^TX:\n",
      "[  1.9623732 188.0376268]\n",
      "rank of the matrix: 2\n",
      "condition_number=95.82154225314864\n"
     ]
    }
   ],
   "source": [
    "# same matrix as before\n",
    "x1 = np.array([1, 2, 3, 4, 5])\n",
    "x2 = np.array([3, 5, 4, 6, 7])\n",
    "\n",
    "X = np.column_stack((x1, x2))\n",
    "\n",
    "XTX = np.dot(X.T, X)\n",
    "\n",
    "eigenvalues_XTX = np.linalg.eigvals(XTX)\n",
    "\n",
    "print('No multicollinearity case:')\n",
    "print(\"X^TX:\")\n",
    "print(XTX)\n",
    "print(\"Eigenvalues of X^TX:\")\n",
    "print(eigenvalues_XTX)\n",
    "\n",
    "rank = np.linalg.matrix_rank(XTX)\n",
    "print(\"rank of the matrix:\", rank) # supposed to be 2\n",
    "\n",
    "condition_number = np.linalg.cond(XTX)\n",
    "print(f'{condition_number=}')"
   ]
  },
  {
   "cell_type": "markdown",
   "id": "4f47e3dc",
   "metadata": {
    "id": "OVLupYkyFxZc",
    "papermill": {
     "duration": 0.007846,
     "end_time": "2024-05-01T13:37:13.537617",
     "exception": false,
     "start_time": "2024-05-01T13:37:13.529771",
     "status": "completed"
    },
    "tags": []
   },
   "source": [
    "# Building up to multicollinearity\n",
    "\n",
    "* Eigenvalues and Eigenvectors: when an eigenvalue is close to 0, it indicates that the associated eigenvector does not scale much during the applied transformation\n",
    "* Minimal scaling: the vector does not scale (much), this means the transformation has very little effect along the direction of that eigenvector (little effect on the features or characteristics of the data that are aligned with that particular eigenvector)\n",
    "* Redundancy: if an eigenvector is nearly parallel to the null space of the transformation matrix, this suggests there is a linear combination of the data (features in the design matrix) that has no effect on the outcome\n",
    "* Multicollinearity: redundancy (or near-redundancy) in the data is a characteristic of multicollinearity - one predictor variable can be approximately expressed as a linear combination of the others. If we have multicollinearity, there is near linear dependence and the matrix is (near) singular, which makes $X^TX$ ill-conditioned and numerically unstable (sensitive to pertrubations) which inflates the parameter variances, resulting in poor estimates\n",
    "\n",
    "# From a 0 eigenvalue to multicollinearity\n",
    "\n",
    "A 0 eigenvalue indicates minimal scaling of the corresponding eigenvector which suggests redundancy or near-redundancy in the data. This redundancy implies a high degree of correlation between predictor variables, leading to multicollinearity in the regression model.\n"
   ]
  },
  {
   "cell_type": "markdown",
   "id": "57d3a4c4",
   "metadata": {
    "id": "bWw_KPQaFxAR",
    "papermill": {
     "duration": 0.007792,
     "end_time": "2024-05-01T13:37:13.553131",
     "exception": false,
     "start_time": "2024-05-01T13:37:13.545339",
     "status": "completed"
    },
    "tags": []
   },
   "source": [
    "# Example of linear regression when **there is** multicollinearity"
   ]
  },
  {
   "cell_type": "code",
   "execution_count": 8,
   "id": "6d68a448",
   "metadata": {
    "execution": {
     "iopub.execute_input": "2024-05-01T13:37:13.573327Z",
     "iopub.status.busy": "2024-05-01T13:37:13.571066Z",
     "iopub.status.idle": "2024-05-01T13:37:15.362737Z",
     "shell.execute_reply": "2024-05-01T13:37:15.361547Z"
    },
    "id": "REIw9H6z9-US",
    "outputId": "ddbab390-29dd-4493-e5a1-4b92518dd319",
    "papermill": {
     "duration": 1.80399,
     "end_time": "2024-05-01T13:37:15.365527",
     "exception": false,
     "start_time": "2024-05-01T13:37:13.561537",
     "status": "completed"
    },
    "tags": []
   },
   "outputs": [
    {
     "name": "stdout",
     "output_type": "stream",
     "text": [
      "Multicollinearity case:\n",
      "eigenvalues=array([  0., 275.])\n",
      "Rank of the matrix: 1\n",
      "condition_number=inf\n",
      "\n",
      "Original Coefficients and Intercept:\n",
      "Coefficients: [0.80039912 1.60079824]\n",
      "Intercept: 0.03991352436920792\n",
      "\n",
      "Perturbed Coefficients and Intercept:\n",
      "Coefficients: [-8.6065131   6.30414128]\n",
      "Intercept: 0.03940363891543086\n"
     ]
    }
   ],
   "source": [
    "# same as before\n",
    "x1 = np.array([1, 2, 3, 4, 5])\n",
    "x2 = np.array([2, 4, 6, 8, 10])\n",
    "\n",
    "X = np.column_stack((x1, x2))\n",
    "\n",
    "XTX = np.dot(X.T, X)\n",
    "\n",
    "eigenvalues = np.linalg.eigvals(XTX)\n",
    "\n",
    "print('Multicollinearity case:')\n",
    "print(f'{eigenvalues=}')\n",
    "\n",
    "rank = np.linalg.matrix_rank(XTX)\n",
    "print(\"Rank of the matrix:\", rank)\n",
    "\n",
    "condition_number = np.linalg.cond(XTX)\n",
    "print(f'{condition_number=}')\n",
    "\n",
    "from sklearn.linear_model import LinearRegression\n",
    "\n",
    "true_coef = [2, 1]\n",
    "\n",
    "y = np.dot(X, true_coef) + np.random.normal(0, 0.1, size=len(x1))\n",
    "\n",
    "model = LinearRegression()\n",
    "model.fit(X, y)\n",
    "\n",
    "print(\"\\nOriginal Coefficients and Intercept:\")\n",
    "print(\"Coefficients:\", model.coef_)\n",
    "print(\"Intercept:\", model.intercept_)\n",
    "\n",
    "X_perturbed = X + 0.001 * np.random.randn(*X.shape)\n",
    "\n",
    "model_perturbed = LinearRegression()\n",
    "model_perturbed.fit(X_perturbed, y)\n",
    "\n",
    "print(\"\\nPerturbed Coefficients and Intercept:\")\n",
    "print(\"Coefficients:\", model_perturbed.coef_)\n",
    "print(\"Intercept:\", model_perturbed.intercept_)"
   ]
  },
  {
   "cell_type": "markdown",
   "id": "998702e0",
   "metadata": {
    "id": "OxdySkUhM0bm",
    "papermill": {
     "duration": 0.009144,
     "end_time": "2024-05-01T13:37:15.382757",
     "exception": false,
     "start_time": "2024-05-01T13:37:15.373613",
     "status": "completed"
    },
    "tags": []
   },
   "source": [
    "# Example of linear regression when there is **no** multicollinearity"
   ]
  },
  {
   "cell_type": "code",
   "execution_count": 9,
   "id": "9599ba3a",
   "metadata": {
    "execution": {
     "iopub.execute_input": "2024-05-01T13:37:15.404435Z",
     "iopub.status.busy": "2024-05-01T13:37:15.403934Z",
     "iopub.status.idle": "2024-05-01T13:37:15.424335Z",
     "shell.execute_reply": "2024-05-01T13:37:15.422973Z"
    },
    "id": "oTgfyTcKI_AH",
    "outputId": "f0dc38bc-d8d5-4ca9-f95c-70fcc31610b8",
    "papermill": {
     "duration": 0.034631,
     "end_time": "2024-05-01T13:37:15.427148",
     "exception": false,
     "start_time": "2024-05-01T13:37:15.392517",
     "status": "completed"
    },
    "tags": []
   },
   "outputs": [
    {
     "name": "stdout",
     "output_type": "stream",
     "text": [
      "No multicollinearity case:\n",
      "eigenvalues=array([  1.9623732, 188.0376268])\n",
      "Rank of the matrix: 2\n",
      "condition_number=95.82154225314864\n",
      "\n",
      "Original Coefficients and Intercept:\n",
      "Coefficients: [2.05446569 0.92175784]\n",
      "Intercept: 0.15618973818845738\n",
      "\n",
      "Perturbed Coefficients and Intercept:\n",
      "Coefficients: [2.05486836 0.92235525]\n",
      "Intercept: 0.1525767124126478\n"
     ]
    }
   ],
   "source": [
    "# same as before\n",
    "x1 = np.array([1, 2, 3, 4, 5])\n",
    "x2 = np.array([3, 5, 4, 6, 7])\n",
    "\n",
    "X = np.column_stack((x1, x2))\n",
    "\n",
    "XTX = np.dot(X.T, X)\n",
    "\n",
    "eigenvalues = np.linalg.eigvals(XTX)\n",
    "\n",
    "print('No multicollinearity case:')\n",
    "print(f'{eigenvalues=}')\n",
    "\n",
    "rank = np.linalg.matrix_rank(XTX)\n",
    "print(\"Rank of the matrix:\", rank)\n",
    "\n",
    "condition_number = np.linalg.cond(XTX)\n",
    "print(f'{condition_number=}')\n",
    "\n",
    "from sklearn.linear_model import LinearRegression\n",
    "\n",
    "true_coef = [2, 1]\n",
    "\n",
    "y = np.dot(X, true_coef) + np.random.normal(0, 0.1, size=len(x1))\n",
    "\n",
    "model = LinearRegression()\n",
    "model.fit(X, y)\n",
    "\n",
    "print(\"\\nOriginal Coefficients and Intercept:\")\n",
    "print(\"Coefficients:\", model.coef_)\n",
    "print(\"Intercept:\", model.intercept_)\n",
    "\n",
    "X_perturbed = X + 0.001 * np.random.randn(*X.shape)\n",
    "\n",
    "model_perturbed = LinearRegression()\n",
    "model_perturbed.fit(X_perturbed, y)\n",
    "\n",
    "print(\"\\nPerturbed Coefficients and Intercept:\")\n",
    "print(\"Coefficients:\", model_perturbed.coef_)\n",
    "print(\"Intercept:\", model_perturbed.intercept_)"
   ]
  }
 ],
 "metadata": {
  "colab": {
   "authorship_tag": "ABX9TyN3gYPBvahgMI8ULdrJm6Ks",
   "gpuType": "T4",
   "include_colab_link": true,
   "provenance": []
  },
  "kaggle": {
   "accelerator": "none",
   "dataSources": [],
   "dockerImageVersionId": 30698,
   "isGpuEnabled": false,
   "isInternetEnabled": true,
   "language": "python",
   "sourceType": "notebook"
  },
  "kernelspec": {
   "display_name": "Python 3",
   "language": "python",
   "name": "python3"
  },
  "language_info": {
   "codemirror_mode": {
    "name": "ipython",
    "version": 3
   },
   "file_extension": ".py",
   "mimetype": "text/x-python",
   "name": "python",
   "nbconvert_exporter": "python",
   "pygments_lexer": "ipython3",
   "version": "3.10.13"
  },
  "papermill": {
   "default_parameters": {},
   "duration": 6.057058,
   "end_time": "2024-05-01T13:37:15.959901",
   "environment_variables": {},
   "exception": null,
   "input_path": "__notebook__.ipynb",
   "output_path": "__notebook__.ipynb",
   "parameters": {},
   "start_time": "2024-05-01T13:37:09.902843",
   "version": "2.5.0"
  }
 },
 "nbformat": 4,
 "nbformat_minor": 5
}
