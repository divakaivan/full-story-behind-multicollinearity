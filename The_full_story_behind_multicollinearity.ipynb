{
 "cells": [
  {
   "cell_type": "markdown",
   "id": "5e5d88ce",
   "metadata": {
    "id": "view-in-github",
    "papermill": {
     "duration": 0.008263,
     "end_time": "2024-05-01T13:08:38.175885",
     "exception": false,
     "start_time": "2024-05-01T13:08:38.167622",
     "status": "completed"
    },
    "tags": []
   },
   "source": [
    "<a href=\"https://colab.research.google.com/github/divakaivan/full-story-behind-multicollinearity/blob/main/The_full_story_behind_multicollinearity.ipynb\" target=\"_parent\"><img src=\"https://colab.research.google.com/assets/colab-badge.svg\" alt=\"Open In Colab\"/></a>"
   ]
  },
  {
   "cell_type": "markdown",
   "id": "dd35aef1",
   "metadata": {
    "id": "E8iYU6SixeuV",
    "papermill": {
     "duration": 0.006376,
     "end_time": "2024-05-01T13:08:38.189538",
     "exception": false,
     "start_time": "2024-05-01T13:08:38.183162",
     "status": "completed"
    },
    "tags": []
   },
   "source": [
    "# Linear regression model\n",
    "\n",
    "$\\hat{y} = Xw + b$\n",
    "\n",
    "The **goal** is to find the weights $w$ and bias $b$ such that, given features of a new data sample from the same distribution as $X$, the new sample's label will be predicted correctly with the smallest error.\n",
    "\n",
    "# Loss\n",
    "\n",
    "Our goal is: $w^*, b^* = {argmin}_{w, b} L(w, b)$\n",
    "\n",
    "After we differentialte $||y - Xw||^2$ w.r.t. $w$, we end up with\n",
    "\n",
    "# Optimal parameters\n",
    "\n",
    "$w^* = (X^TX)^{-1} X^Ty$\n",
    "\n",
    "Solving for $w^*$ provides us with the optimal solution for the optimization problem. However, it only works when the matrix $X^TX$ is invertible (has full rank - the columns are linearly independent).\n",
    "\n",
    "**IF** it does not have full rank -> some of the features are linearly dependent. In a perfect world $X^TX$ would be a diagonal (or nearly diagonal) square matrix (i.e. no linearly dependent variables).\n",
    "\n",
    "# Why do we need it to have full rank?\n",
    "\n",
    "In $w^*$ we have $(X^TX)^{-1}$ - inversing the matrix. To inverse a matrix, the matrix needs to satisfy:\n",
    "\n",
    "1. Be a square matrix - $(X^TX)^{-1}$ returns a square matrix so we are *good*\n",
    "2. Have non-zero determinant. In the case of square matrices having a non-zero determinant is equivalent to being full rank\n",
    "  * if features are linearly independent -> we are *good*\n",
    "  * if features are linearly dependent -> we are *not* good\n",
    "\n",
    "# What do we do when there is linear dependence or multicullinearity ?\n",
    "\n",
    "We cannot directly solve for $w^*$. We need to employ alternative methods to estimate it. We need to get an invertible $X^TX$, so we can:\n",
    "* use QR decomposition - useful even when $X^TX$ is not invertible\n",
    "* SVD = obtain a pseudo-inverse $X^TX$\n",
    "* regularization - helps mitigate multicollinearity\n",
    "* other methods\n",
    "\n",
    "Even though there is multicollinearity, we can still run a regression and obtain w estimates. Any if you ask an LLM, read a textbook, most likely it will leave at: thes estimates are bad and unreliable.\n",
    "\n",
    "# Why ?\n",
    "\n",
    "Multicollinearity means 'near-singularity' of the design matrix (matrix showing relationships between Xs and y).\n",
    "\n",
    "# Why do we care for near-singularity (which is equivalent to near 0 determinant) ?\n",
    "\n",
    "It means that we might have a near 0 eigenvalue. For a square matrix to have a determinant of (near) 0, at least one of its rows or columns must be a linear combination of the other rows or columns. This loss of dimensionality leads to a collapsing or compression of space, which is reflected in the eigenvalue being (near) 0.\n",
    "\n",
    "# Why do we care if there is a (near) 0 eigenvalue ?\n",
    "\n",
    "It suggests there is some strong linear relationship or multicollinearity among the features because of the way they relate to the `rank` and `condition number` of the matrix $X^TX$."
   ]
  },
  {
   "cell_type": "markdown",
   "id": "fb326a03",
   "metadata": {
    "id": "FJ_vh80b9cL4",
    "papermill": {
     "duration": 0.007262,
     "end_time": "2024-05-01T13:08:38.203550",
     "exception": false,
     "start_time": "2024-05-01T13:08:38.196288",
     "status": "completed"
    },
    "tags": []
   },
   "source": [
    "# Example of a matrix's eigenvalues when **there is** multicollinearity"
   ]
  },
  {
   "cell_type": "code",
   "execution_count": 1,
   "id": "37b40a66",
   "metadata": {
    "execution": {
     "iopub.execute_input": "2024-05-01T13:08:38.220049Z",
     "iopub.status.busy": "2024-05-01T13:08:38.219498Z",
     "iopub.status.idle": "2024-05-01T13:08:38.235123Z",
     "shell.execute_reply": "2024-05-01T13:08:38.233407Z"
    },
    "id": "M17huicts7sZ",
    "papermill": {
     "duration": 0.027787,
     "end_time": "2024-05-01T13:08:38.238482",
     "exception": false,
     "start_time": "2024-05-01T13:08:38.210695",
     "status": "completed"
    },
    "tags": []
   },
   "outputs": [],
   "source": [
    "import numpy as np\n",
    "np.set_printoptions(suppress=True)\n",
    "np.random.seed(42)"
   ]
  },
  {
   "cell_type": "code",
   "execution_count": 2,
   "id": "f0c4243d",
   "metadata": {
    "execution": {
     "iopub.execute_input": "2024-05-01T13:08:38.254726Z",
     "iopub.status.busy": "2024-05-01T13:08:38.254269Z",
     "iopub.status.idle": "2024-05-01T13:08:38.279699Z",
     "shell.execute_reply": "2024-05-01T13:08:38.278030Z"
    },
    "id": "DfLwwFOK990C",
    "outputId": "4e3c9b72-c69d-48f1-c658-ec74fa057951",
    "papermill": {
     "duration": 0.038132,
     "end_time": "2024-05-01T13:08:38.283605",
     "exception": false,
     "start_time": "2024-05-01T13:08:38.245473",
     "status": "completed"
    },
    "tags": []
   },
   "outputs": [
    {
     "name": "stdout",
     "output_type": "stream",
     "text": [
      "Multicollinearity case:\n",
      "X^TX:\n",
      "[[ 55 110]\n",
      " [110 220]]\n",
      "Eigenvalues of X^TX:\n",
      "[  0. 275.]\n"
     ]
    }
   ],
   "source": [
    "x1 = np.array([1, 2, 3, 4, 5])\n",
    "x2 = np.array([2, 4, 6, 8, 10])\n",
    "\n",
    "X = np.column_stack((x1, x2))\n",
    "\n",
    "XTX = np.dot(X.T, X)\n",
    "\n",
    "eigenvalues_XTX = np.linalg.eigvals(XTX)\n",
    "\n",
    "print('Multicollinearity case:')\n",
    "print(\"X^TX:\")\n",
    "print(XTX)\n",
    "print(\"Eigenvalues of X^TX:\")\n",
    "print(eigenvalues_XTX)"
   ]
  },
  {
   "cell_type": "markdown",
   "id": "624c07eb",
   "metadata": {
    "id": "47TPY7LA_WjG",
    "papermill": {
     "duration": 0.006574,
     "end_time": "2024-05-01T13:08:38.298052",
     "exception": false,
     "start_time": "2024-05-01T13:08:38.291478",
     "status": "completed"
    },
    "tags": []
   },
   "source": [
    "# Example of a matrix's eigenvalues when there is **no** multicollinearity"
   ]
  },
  {
   "cell_type": "code",
   "execution_count": 3,
   "id": "5925b113",
   "metadata": {
    "execution": {
     "iopub.execute_input": "2024-05-01T13:08:38.314357Z",
     "iopub.status.busy": "2024-05-01T13:08:38.313896Z",
     "iopub.status.idle": "2024-05-01T13:08:38.323944Z",
     "shell.execute_reply": "2024-05-01T13:08:38.322283Z"
    },
    "id": "AqTuEWkc9-JQ",
    "outputId": "ff07ebf7-c95d-413b-9331-af470ef9aff2",
    "papermill": {
     "duration": 0.02171,
     "end_time": "2024-05-01T13:08:38.326751",
     "exception": false,
     "start_time": "2024-05-01T13:08:38.305041",
     "status": "completed"
    },
    "tags": []
   },
   "outputs": [
    {
     "name": "stdout",
     "output_type": "stream",
     "text": [
      "No multicollinearity case:\n",
      "X^TX:\n",
      "[[ 55  84]\n",
      " [ 84 135]]\n",
      "Eigenvalues of X^TX:\n",
      "[  1.9623732 188.0376268]\n"
     ]
    }
   ],
   "source": [
    "x1 = np.array([1, 2, 3, 4, 5])\n",
    "x2 = np.array([3, 5, 4, 6, 7])\n",
    "\n",
    "X = np.column_stack((x1, x2))\n",
    "\n",
    "XTX = np.dot(X.T, X)\n",
    "\n",
    "eigenvalues_XTX = np.linalg.eigvals(XTX)\n",
    "\n",
    "print('No multicollinearity case:')\n",
    "print(\"X^TX:\")\n",
    "print(XTX)\n",
    "print(\"Eigenvalues of X^TX:\")\n",
    "print(eigenvalues_XTX)"
   ]
  },
  {
   "cell_type": "markdown",
   "id": "af738d80",
   "metadata": {
    "id": "4MGnFZqT_lkf",
    "papermill": {
     "duration": 0.006742,
     "end_time": "2024-05-01T13:08:38.340866",
     "exception": false,
     "start_time": "2024-05-01T13:08:38.334124",
     "status": "completed"
    },
    "tags": []
   },
   "source": [
    "# How do eigenvalues relate to rank ?\n",
    "\n",
    "On the one hand, if a matrix has full rank (from the start: this is one of the conditions in order to inverse a matrix) that means all its eigenvalues are non-zero. Each eigenvalue of a matrix corresponds to a factor by which a non-zero eigenvector is stretched or shrunk when the matrix is applied to it. If all rows and columns are linearly independent, then the matrix will not collapse any direction onto another during a transformation. Since there are no linearly dependent directions to collapse onto zero, all the eigenvalues must be non-zero.\n",
    "\n",
    "On the other hand, a matrix with less than full rank means there is some linear dependence - there exists one direction in the input space that is mapped to 0 in the output space -> at least one 0 eigenvalue."
   ]
  },
  {
   "cell_type": "markdown",
   "id": "b7e901f0",
   "metadata": {
    "id": "DD0rxp0HCmME",
    "papermill": {
     "duration": 0.006843,
     "end_time": "2024-05-01T13:08:38.354876",
     "exception": false,
     "start_time": "2024-05-01T13:08:38.348033",
     "status": "completed"
    },
    "tags": []
   },
   "source": [
    "# Example of a matrix's rank when **there is** multicollinearity"
   ]
  },
  {
   "cell_type": "code",
   "execution_count": 4,
   "id": "8ee53200",
   "metadata": {
    "execution": {
     "iopub.execute_input": "2024-05-01T13:08:38.373183Z",
     "iopub.status.busy": "2024-05-01T13:08:38.372517Z",
     "iopub.status.idle": "2024-05-01T13:08:38.388452Z",
     "shell.execute_reply": "2024-05-01T13:08:38.387157Z"
    },
    "id": "6PRP2RJF_lIu",
    "outputId": "7be4394b-e4a2-4f26-a2a4-684e8ca741ca",
    "papermill": {
     "duration": 0.029052,
     "end_time": "2024-05-01T13:08:38.391826",
     "exception": false,
     "start_time": "2024-05-01T13:08:38.362774",
     "status": "completed"
    },
    "tags": []
   },
   "outputs": [
    {
     "name": "stdout",
     "output_type": "stream",
     "text": [
      "Multicollinearity case:\n",
      "eigenvalues=array([  0., 275.])\n",
      "rank of the matrix: 1\n"
     ]
    }
   ],
   "source": [
    "# same matrix as before\n",
    "x1 = np.array([1, 2, 3, 4, 5])\n",
    "x2 = np.array([2, 4, 6, 8, 10])\n",
    "\n",
    "X = np.column_stack((x1, x2))\n",
    "\n",
    "XTX = np.dot(X.T, X)\n",
    "\n",
    "eigenvalues = np.linalg.eigvals(XTX)\n",
    "\n",
    "print('Multicollinearity case:')\n",
    "print(f'{eigenvalues=}')\n",
    "\n",
    "rank = np.linalg.matrix_rank(XTX)\n",
    "print(\"rank of the matrix:\", rank) # supposed to be 3"
   ]
  },
  {
   "cell_type": "markdown",
   "id": "6f2258a4",
   "metadata": {
    "id": "wxx_3yg1DRE7",
    "papermill": {
     "duration": 0.006915,
     "end_time": "2024-05-01T13:08:38.406061",
     "exception": false,
     "start_time": "2024-05-01T13:08:38.399146",
     "status": "completed"
    },
    "tags": []
   },
   "source": [
    "# Example of a matrix's eigenvalues when there is **no** multicollinearity"
   ]
  },
  {
   "cell_type": "code",
   "execution_count": 5,
   "id": "7f9a3f20",
   "metadata": {
    "execution": {
     "iopub.execute_input": "2024-05-01T13:08:38.423755Z",
     "iopub.status.busy": "2024-05-01T13:08:38.422838Z",
     "iopub.status.idle": "2024-05-01T13:08:38.433895Z",
     "shell.execute_reply": "2024-05-01T13:08:38.432293Z"
    },
    "id": "pI-8nBvl9-Lc",
    "outputId": "bd1eaed3-7396-48ae-e2b9-e5bb6db2de59",
    "papermill": {
     "duration": 0.023099,
     "end_time": "2024-05-01T13:08:38.436671",
     "exception": false,
     "start_time": "2024-05-01T13:08:38.413572",
     "status": "completed"
    },
    "tags": []
   },
   "outputs": [
    {
     "name": "stdout",
     "output_type": "stream",
     "text": [
      "No multicollinearity case:\n",
      "X^TX:\n",
      "[[ 55  84]\n",
      " [ 84 135]]\n",
      "Eigenvalues of X^TX:\n",
      "[  1.9623732 188.0376268]\n",
      "rank of the matrix: 2\n"
     ]
    }
   ],
   "source": [
    "# same matrix as before\n",
    "x1 = np.array([1, 2, 3, 4, 5])\n",
    "x2 = np.array([3, 5, 4, 6, 7])\n",
    "\n",
    "X = np.column_stack((x1, x2))\n",
    "\n",
    "XTX = np.dot(X.T, X)\n",
    "\n",
    "eigenvalues_XTX = np.linalg.eigvals(XTX)\n",
    "\n",
    "print('No multicollinearity case:')\n",
    "print(\"X^TX:\")\n",
    "print(XTX)\n",
    "print(\"Eigenvalues of X^TX:\")\n",
    "print(eigenvalues_XTX)\n",
    "\n",
    "rank = np.linalg.matrix_rank(XTX)\n",
    "print(\"rank of the matrix:\", rank) # supposed to be 2"
   ]
  },
  {
   "cell_type": "markdown",
   "id": "6df6c06e",
   "metadata": {
    "id": "yItCKFPSD5nW",
    "papermill": {
     "duration": 0.007179,
     "end_time": "2024-05-01T13:08:38.451319",
     "exception": false,
     "start_time": "2024-05-01T13:08:38.444140",
     "status": "completed"
    },
    "tags": []
   },
   "source": [
    "# How do eigenvalues relate to the matrix's condition number ?\n",
    "\n",
    "The condition number of a matrix is a measure of its sensitivity to pertributions or changes in the elements of the matrix; or how small changes in the elements of the matrix might affect its behaviour or properties, such as its eigenvalues or the solutions to linear systems involving that matrix.\n",
    "\n",
    "The spread of the eigenvalues can give insight into the matrix's conditioning - smaller spread generally suggests better conditioning.\n",
    "\n",
    "In most cases, a larger condition number indicates poorer conditioning, while a smaller - better conditioning."
   ]
  },
  {
   "cell_type": "markdown",
   "id": "1b37b51e",
   "metadata": {
    "id": "qYbc-HIiFS0l",
    "papermill": {
     "duration": 0.007258,
     "end_time": "2024-05-01T13:08:38.468658",
     "exception": false,
     "start_time": "2024-05-01T13:08:38.461400",
     "status": "completed"
    },
    "tags": []
   },
   "source": [
    "# Example of a matrix's rank when **there is** multicollinearity"
   ]
  },
  {
   "cell_type": "code",
   "execution_count": 6,
   "id": "d1650733",
   "metadata": {
    "execution": {
     "iopub.execute_input": "2024-05-01T13:08:38.486496Z",
     "iopub.status.busy": "2024-05-01T13:08:38.485911Z",
     "iopub.status.idle": "2024-05-01T13:08:38.497649Z",
     "shell.execute_reply": "2024-05-01T13:08:38.495507Z"
    },
    "id": "p7ROBD4r9-Nf",
    "outputId": "be09c26d-99e0-4a9f-d04f-52413f7e8c78",
    "papermill": {
     "duration": 0.024028,
     "end_time": "2024-05-01T13:08:38.500401",
     "exception": false,
     "start_time": "2024-05-01T13:08:38.476373",
     "status": "completed"
    },
    "tags": []
   },
   "outputs": [
    {
     "name": "stdout",
     "output_type": "stream",
     "text": [
      "Multicollinearity case:\n",
      "eigenvalues=array([  0., 275.])\n",
      "rank of the matrix: 1\n",
      "condition_number=inf\n"
     ]
    }
   ],
   "source": [
    "# same matrix as before\n",
    "x1 = np.array([1, 2, 3, 4, 5])\n",
    "x2 = np.array([2, 4, 6, 8, 10])\n",
    "\n",
    "X = np.column_stack((x1, x2))\n",
    "\n",
    "XTX = np.dot(X.T, X)\n",
    "\n",
    "eigenvalues = np.linalg.eigvals(XTX)\n",
    "\n",
    "print('Multicollinearity case:')\n",
    "print(f'{eigenvalues=}')\n",
    "\n",
    "rank = np.linalg.matrix_rank(XTX)\n",
    "print(\"rank of the matrix:\", rank) # supposed to be 2\n",
    "\n",
    "condition_number = np.linalg.cond(XTX)\n",
    "print(f'{condition_number=}')"
   ]
  },
  {
   "cell_type": "markdown",
   "id": "9ca0373f",
   "metadata": {
    "id": "Dn88MlaVFejo",
    "papermill": {
     "duration": 0.007198,
     "end_time": "2024-05-01T13:08:38.515373",
     "exception": false,
     "start_time": "2024-05-01T13:08:38.508175",
     "status": "completed"
    },
    "tags": []
   },
   "source": [
    "# Example of a matrix's eigenvalues when there is **no** multicollinearity"
   ]
  },
  {
   "cell_type": "code",
   "execution_count": 7,
   "id": "d322aaa3",
   "metadata": {
    "execution": {
     "iopub.execute_input": "2024-05-01T13:08:38.533363Z",
     "iopub.status.busy": "2024-05-01T13:08:38.532523Z",
     "iopub.status.idle": "2024-05-01T13:08:38.544237Z",
     "shell.execute_reply": "2024-05-01T13:08:38.542944Z"
    },
    "id": "iGY0KIue9-Px",
    "outputId": "7e65867a-ef9d-474f-8a04-3da14769f445",
    "papermill": {
     "duration": 0.024013,
     "end_time": "2024-05-01T13:08:38.547105",
     "exception": false,
     "start_time": "2024-05-01T13:08:38.523092",
     "status": "completed"
    },
    "tags": []
   },
   "outputs": [
    {
     "name": "stdout",
     "output_type": "stream",
     "text": [
      "No multicollinearity case:\n",
      "X^TX:\n",
      "[[ 55  84]\n",
      " [ 84 135]]\n",
      "Eigenvalues of X^TX:\n",
      "[  1.9623732 188.0376268]\n",
      "rank of the matrix: 2\n",
      "condition_number=95.82154225314864\n"
     ]
    }
   ],
   "source": [
    "# same matrix as before\n",
    "x1 = np.array([1, 2, 3, 4, 5])\n",
    "x2 = np.array([3, 5, 4, 6, 7])\n",
    "\n",
    "X = np.column_stack((x1, x2))\n",
    "\n",
    "XTX = np.dot(X.T, X)\n",
    "\n",
    "eigenvalues_XTX = np.linalg.eigvals(XTX)\n",
    "\n",
    "print('No multicollinearity case:')\n",
    "print(\"X^TX:\")\n",
    "print(XTX)\n",
    "print(\"Eigenvalues of X^TX:\")\n",
    "print(eigenvalues_XTX)\n",
    "\n",
    "rank = np.linalg.matrix_rank(XTX)\n",
    "print(\"rank of the matrix:\", rank) # supposed to be 2\n",
    "\n",
    "condition_number = np.linalg.cond(XTX)\n",
    "print(f'{condition_number=}')"
   ]
  },
  {
   "cell_type": "markdown",
   "id": "54382a20",
   "metadata": {
    "id": "OVLupYkyFxZc",
    "papermill": {
     "duration": 0.007431,
     "end_time": "2024-05-01T13:08:38.562363",
     "exception": false,
     "start_time": "2024-05-01T13:08:38.554932",
     "status": "completed"
    },
    "tags": []
   },
   "source": [
    "# Building up to multicollinearity\n",
    "\n",
    "* Eigenvalues and Eigenvectors: when an eigenvalue is close to 0, it indicates that the associated eigenvector does not scale much during the applied transformation\n",
    "* Minimal scaling: the vector does not scale (much), this means the transformation has very little effect along the direction of that eigenvector (little effect on the features or characteristics of the data that are aligned with that particular eigenvector)\n",
    "* Redundancy: if an eigenvector is nearly parallel to the null space of the transformation matrix, this suggests there is a linear combination of the data (features in the design matrix) that has no effect on the outcome\n",
    "* Multicollinearity: redundancy (or near-redundancy) in the data is a characteristic of multicollinearity - one predictor variable can be approximately expressed as a linear combination of the others. If we have multicollinearity, there is near linear dependence and the matrix is (near) singular, which makes $X^TX$ ill-conditioned and numerically unstable (sensitive to pertrubations) which inflates the parameter variances, resulting in poor estimates\n",
    "\n",
    "# From a 0 eigenvalue to multicollinearity\n",
    "\n",
    "A 0 eigenvalue indicates minimal scaling of the corresponding eigenvector which suggests redundancy or near-redundancy in the data. This redundancy implies a high degree of correlation between predictor variables, leading to multicollinearity in the regression model.\n"
   ]
  },
  {
   "cell_type": "markdown",
   "id": "24ba8f05",
   "metadata": {
    "id": "bWw_KPQaFxAR",
    "papermill": {
     "duration": 0.007357,
     "end_time": "2024-05-01T13:08:38.577501",
     "exception": false,
     "start_time": "2024-05-01T13:08:38.570144",
     "status": "completed"
    },
    "tags": []
   },
   "source": [
    "# Example of linear regression when **there is** multicollinearity"
   ]
  },
  {
   "cell_type": "code",
   "execution_count": 8,
   "id": "c254e00c",
   "metadata": {
    "execution": {
     "iopub.execute_input": "2024-05-01T13:08:38.595445Z",
     "iopub.status.busy": "2024-05-01T13:08:38.595017Z",
     "iopub.status.idle": "2024-05-01T13:08:40.391382Z",
     "shell.execute_reply": "2024-05-01T13:08:40.389658Z"
    },
    "id": "REIw9H6z9-US",
    "outputId": "ddbab390-29dd-4493-e5a1-4b92518dd319",
    "papermill": {
     "duration": 1.809366,
     "end_time": "2024-05-01T13:08:40.394741",
     "exception": false,
     "start_time": "2024-05-01T13:08:38.585375",
     "status": "completed"
    },
    "tags": []
   },
   "outputs": [
    {
     "name": "stdout",
     "output_type": "stream",
     "text": [
      "Multicollinearity case:\n",
      "eigenvalues=array([  0., 275.])\n",
      "Rank of the matrix: 1\n",
      "condition_number=inf\n",
      "\n",
      "Original Coefficients and Intercept:\n",
      "Coefficients: [0.80039912 1.60079824]\n",
      "Intercept: 0.03991352436920792\n",
      "\n",
      "Perturbed Coefficients and Intercept:\n",
      "Coefficients: [-8.6065131   6.30414128]\n",
      "Intercept: 0.03940363891543086\n"
     ]
    }
   ],
   "source": [
    "# same as before\n",
    "x1 = np.array([1, 2, 3, 4, 5])\n",
    "x2 = np.array([2, 4, 6, 8, 10])\n",
    "\n",
    "X = np.column_stack((x1, x2))\n",
    "\n",
    "XTX = np.dot(X.T, X)\n",
    "\n",
    "eigenvalues = np.linalg.eigvals(XTX)\n",
    "\n",
    "print('Multicollinearity case:')\n",
    "print(f'{eigenvalues=}')\n",
    "\n",
    "rank = np.linalg.matrix_rank(XTX)\n",
    "print(\"Rank of the matrix:\", rank)\n",
    "\n",
    "condition_number = np.linalg.cond(XTX)\n",
    "print(f'{condition_number=}')\n",
    "\n",
    "from sklearn.linear_model import LinearRegression\n",
    "\n",
    "true_coef = [2, 1]\n",
    "\n",
    "y = np.dot(X, true_coef) + np.random.normal(0, 0.1, size=len(x1))\n",
    "\n",
    "model = LinearRegression()\n",
    "model.fit(X, y)\n",
    "\n",
    "print(\"\\nOriginal Coefficients and Intercept:\")\n",
    "print(\"Coefficients:\", model.coef_)\n",
    "print(\"Intercept:\", model.intercept_)\n",
    "\n",
    "X_perturbed = X + 0.001 * np.random.randn(*X.shape)\n",
    "\n",
    "model_perturbed = LinearRegression()\n",
    "model_perturbed.fit(X_perturbed, y)\n",
    "\n",
    "print(\"\\nPerturbed Coefficients and Intercept:\")\n",
    "print(\"Coefficients:\", model_perturbed.coef_)\n",
    "print(\"Intercept:\", model_perturbed.intercept_)"
   ]
  },
  {
   "cell_type": "markdown",
   "id": "fb31db2b",
   "metadata": {
    "id": "OxdySkUhM0bm",
    "papermill": {
     "duration": 0.00748,
     "end_time": "2024-05-01T13:08:40.410745",
     "exception": false,
     "start_time": "2024-05-01T13:08:40.403265",
     "status": "completed"
    },
    "tags": []
   },
   "source": [
    "# Example of linear regression when there is **no** multicollinearity"
   ]
  },
  {
   "cell_type": "code",
   "execution_count": 9,
   "id": "4029505e",
   "metadata": {
    "execution": {
     "iopub.execute_input": "2024-05-01T13:08:40.429508Z",
     "iopub.status.busy": "2024-05-01T13:08:40.429019Z",
     "iopub.status.idle": "2024-05-01T13:08:40.452273Z",
     "shell.execute_reply": "2024-05-01T13:08:40.450870Z"
    },
    "id": "oTgfyTcKI_AH",
    "outputId": "f0dc38bc-d8d5-4ca9-f95c-70fcc31610b8",
    "papermill": {
     "duration": 0.036444,
     "end_time": "2024-05-01T13:08:40.454955",
     "exception": false,
     "start_time": "2024-05-01T13:08:40.418511",
     "status": "completed"
    },
    "tags": []
   },
   "outputs": [
    {
     "name": "stdout",
     "output_type": "stream",
     "text": [
      "No multicollinearity case:\n",
      "eigenvalues=array([  1.9623732, 188.0376268])\n",
      "Rank of the matrix: 2\n",
      "condition_number=95.82154225314864\n",
      "\n",
      "Original Coefficients and Intercept:\n",
      "Coefficients: [2.05446569 0.92175784]\n",
      "Intercept: 0.15618973818845738\n",
      "\n",
      "Perturbed Coefficients and Intercept:\n",
      "Coefficients: [2.05486836 0.92235525]\n",
      "Intercept: 0.1525767124126478\n"
     ]
    }
   ],
   "source": [
    "# same as before\n",
    "x1 = np.array([1, 2, 3, 4, 5])\n",
    "x2 = np.array([3, 5, 4, 6, 7])\n",
    "\n",
    "X = np.column_stack((x1, x2))\n",
    "\n",
    "XTX = np.dot(X.T, X)\n",
    "\n",
    "eigenvalues = np.linalg.eigvals(XTX)\n",
    "\n",
    "print('No multicollinearity case:')\n",
    "print(f'{eigenvalues=}')\n",
    "\n",
    "rank = np.linalg.matrix_rank(XTX)\n",
    "print(\"Rank of the matrix:\", rank)\n",
    "\n",
    "condition_number = np.linalg.cond(XTX)\n",
    "print(f'{condition_number=}')\n",
    "\n",
    "from sklearn.linear_model import LinearRegression\n",
    "\n",
    "true_coef = [2, 1]\n",
    "\n",
    "y = np.dot(X, true_coef) + np.random.normal(0, 0.1, size=len(x1))\n",
    "\n",
    "model = LinearRegression()\n",
    "model.fit(X, y)\n",
    "\n",
    "print(\"\\nOriginal Coefficients and Intercept:\")\n",
    "print(\"Coefficients:\", model.coef_)\n",
    "print(\"Intercept:\", model.intercept_)\n",
    "\n",
    "X_perturbed = X + 0.001 * np.random.randn(*X.shape)\n",
    "\n",
    "model_perturbed = LinearRegression()\n",
    "model_perturbed.fit(X_perturbed, y)\n",
    "\n",
    "print(\"\\nPerturbed Coefficients and Intercept:\")\n",
    "print(\"Coefficients:\", model_perturbed.coef_)\n",
    "print(\"Intercept:\", model_perturbed.intercept_)"
   ]
  }
 ],
 "metadata": {
  "colab": {
   "authorship_tag": "ABX9TyN3gYPBvahgMI8ULdrJm6Ks",
   "gpuType": "T4",
   "include_colab_link": true,
   "provenance": []
  },
  "kaggle": {
   "accelerator": "none",
   "dataSources": [],
   "dockerImageVersionId": 30698,
   "isGpuEnabled": false,
   "isInternetEnabled": true,
   "language": "python",
   "sourceType": "notebook"
  },
  "kernelspec": {
   "display_name": "Python 3",
   "language": "python",
   "name": "python3"
  },
  "language_info": {
   "codemirror_mode": {
    "name": "ipython",
    "version": 3
   },
   "file_extension": ".py",
   "mimetype": "text/x-python",
   "name": "python",
   "nbconvert_exporter": "python",
   "pygments_lexer": "ipython3",
   "version": "3.10.13"
  },
  "papermill": {
   "default_parameters": {},
   "duration": 9.215774,
   "end_time": "2024-05-01T13:08:44.049257",
   "environment_variables": {},
   "exception": null,
   "input_path": "__notebook__.ipynb",
   "output_path": "__notebook__.ipynb",
   "parameters": {},
   "start_time": "2024-05-01T13:08:34.833483",
   "version": "2.5.0"
  }
 },
 "nbformat": 4,
 "nbformat_minor": 5
}
